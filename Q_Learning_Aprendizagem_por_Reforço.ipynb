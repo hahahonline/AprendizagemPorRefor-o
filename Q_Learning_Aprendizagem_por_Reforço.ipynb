{
  "nbformat": 4,
  "nbformat_minor": 0,
  "metadata": {
    "colab": {
      "provenance": [],
      "authorship_tag": "ABX9TyPlB5kipBAilJmdR/4IoKMo",
      "include_colab_link": true
    },
    "kernelspec": {
      "name": "python3",
      "display_name": "Python 3"
    },
    "language_info": {
      "name": "python"
    }
  },
  "cells": [
    {
      "cell_type": "markdown",
      "metadata": {
        "id": "view-in-github",
        "colab_type": "text"
      },
      "source": [
        "<a href=\"https://colab.research.google.com/github/hahahonline/AprendizagemPorReforco/blob/main/Q_Learning_Aprendizagem_por_Refor%C3%A7o.ipynb\" target=\"_parent\"><img src=\"https://colab.research.google.com/assets/colab-badge.svg\" alt=\"Open In Colab\"/></a>"
      ]
    },
    {
      "cell_type": "code",
      "source": [
        "#Modelo onde o táxi inicia em um local aleatório, pega o passageiro (que surgirá aleatoriamente em um dos 4 pontos) e leva para o destino (que também surgirá aleatoriamente em um dos 4 pontos). "
      ],
      "metadata": {
        "id": "jJ1lvDkt5IbZ"
      },
      "execution_count": null,
      "outputs": []
    },
    {
      "cell_type": "code",
      "execution_count": null,
      "metadata": {
        "id": "ST3ef9s0eCuW"
      },
      "outputs": [],
      "source": [
        "#https://www.gymlibrary.dev/environments/toy_text/taxi/\n",
        "!pip install gym==0.18.0"
      ]
    },
    {
      "cell_type": "code",
      "source": [
        "import gym\n",
        "import random\n",
        "import os\n",
        "os.environ[\"SDL_VIDEODRIVER\"] = \"dummy\""
      ],
      "metadata": {
        "id": "jlZTtFPheb0w"
      },
      "execution_count": 1,
      "outputs": []
    },
    {
      "cell_type": "code",
      "source": [
        "env = gym.make('Taxi-v3') #ambiente disponivel na doc "
      ],
      "metadata": {
        "id": "Kh66nrgTm-Uo"
      },
      "execution_count": 2,
      "outputs": []
    },
    {
      "cell_type": "code",
      "source": [
        "env.render() #mostrando o ambiente"
      ],
      "metadata": {
        "id": "O5N_L90HobvZ",
        "colab": {
          "base_uri": "https://localhost:8080/"
        },
        "outputId": "a85f4dc1-7686-42a1-86cc-539ec1e6eaab"
      },
      "execution_count": 3,
      "outputs": [
        {
          "output_type": "stream",
          "name": "stdout",
          "text": [
            "+---------+\n",
            "|R: | :\u001b[43m \u001b[0m:\u001b[35mG\u001b[0m|\n",
            "| : | : : |\n",
            "| : : : : |\n",
            "| | : | : |\n",
            "|Y| : |\u001b[34;1mB\u001b[0m: |\n",
            "+---------+\n",
            "\n"
          ]
        }
      ]
    },
    {
      "cell_type": "code",
      "source": [
        "env.reset()\n",
        "env.render()"
      ],
      "metadata": {
        "id": "boYHhmHdHJC_",
        "outputId": "47460876-823d-494c-ef78-71a0074e8294",
        "colab": {
          "base_uri": "https://localhost:8080/"
        }
      },
      "execution_count": 29,
      "outputs": [
        {
          "output_type": "stream",
          "name": "stdout",
          "text": [
            "+---------+\n",
            "|\u001b[34;1mR\u001b[0m: | : :G|\n",
            "| : | : : |\n",
            "| : : : : |\n",
            "| | : | : |\n",
            "|\u001b[35mY\u001b[0m|\u001b[43m \u001b[0m: |B: |\n",
            "+---------+\n",
            "\n"
          ]
        }
      ]
    },
    {
      "cell_type": "code",
      "source": [],
      "metadata": {
        "id": "5PIMPiKTrUMl"
      },
      "execution_count": null,
      "outputs": []
    },
    {
      "cell_type": "code",
      "source": [
        "# 1-10% 3-90%\n",
        "# exploration / exploitation\n",
        "# 0 = south 1 = north 2 = east 3 = west 4 = pickup 5 = dropoff\n",
        "%%time\n",
        "from IPython.display import clear_output\n",
        "\n",
        "alpha = 0.1\n",
        "gamma = 0.6\n",
        "epsilon = 0.1\n",
        "\n",
        "q_table = np.zeros([env.observation_space.n, env.action_space.n])#q_table é uma matriz composta por 0 com 500 linhas (movimentos) e 6 colunas(ações)\n",
        "q_table.shape #mostra a estrutura\n",
        "\n",
        "for i in range(10000): \n",
        "  estado = env.reset() #estado do veiculo\n",
        "\n",
        "  penalidades, recompensa = 0, 0 \n",
        "  done = False\n",
        "  while not done:\n",
        "    # Exploração\n",
        "    if random.uniform(0, 1) < epsilon:\n",
        "      acao = env.action_space.sample() #indica as movimentações 0 = south 1 = north 2 = east 3 = west 4 = pickup 5 = dropoff\n",
        "    #sample é uma ação random\n",
        "    # Exploitation\n",
        "    else:\n",
        "      acao = np.argmax(q_table[estado])#np.argmax vai pegar o menor e maior valor\n",
        "      \n",
        "\n",
        "    proximo_estado, recompensa, done, info = env.step(acao) #essa codificação moveu o carro para o próximo estado de acordo com a ação escolhida anteriormente\n",
        "\n",
        "    q_antigo = q_table[estado, acao] #valor anterior\n",
        "    proximo_maximo = np.max(q_table[proximo_estado]) #proximo maximo valor \n",
        "\n",
        "    q_novo = (1 - alpha) * q_antigo + alpha * (recompensa + gamma * proximo_maximo)\n",
        "    q_table[estado, acao] = q_novo\n",
        "\n",
        "    if recompensa == -10:\n",
        "      penalidades += 1\n",
        "\n",
        "    estado = proximo_estado\n",
        "\n",
        "  if i % 100 == 0:\n",
        "    clear_output(wait=True)\n",
        "    print('Episódio: ', i) #episodio é a quantidade de vezes que rodou o ambiente a cima, declarado la no \"for i in range (valor) \"\n",
        "  #o episodio serve pra treinar o algoritmo fazendo o taxi rodar\n",
        "print('Treinamento concluído')\n",
        "#é necessário o q_table para executar o ambiente com o minimo de erros possiveis (ou nenhum erro)"
      ],
      "metadata": {
        "id": "PDOWlef7m1iP"
      },
      "execution_count": null,
      "outputs": []
    },
    {
      "cell_type": "code",
      "source": [
        "# 0 = south 1 = north 2 = east 3 = west 4 = pickup 5 = dropoff\n",
        "# 4 destinos\n",
        "import numpy as np\n",
        "total_penalidades = 0\n",
        "episodios = 50\n",
        "frames = []\n",
        "\n",
        "for _ in range(episodios):\n",
        "  estado = env.reset()\n",
        "  penalidades, recompensa = 0, 0\n",
        "  done = False\n",
        "  while not done:\n",
        "    acao = np.argmax(q_table[estado])\n",
        "    estado, recompensa, done, info = env.step(acao)\n",
        "\n",
        "    if recompensa == -10:\n",
        "      penalidades += 1\n",
        "    \n",
        "    frames.append({\n",
        "        'frame': env.render(mode='ansi'),\n",
        "        'state': estado,\n",
        "        'action': acao,\n",
        "        'reward': recompensa\n",
        "    })\n",
        "\n",
        "  total_penalidades += penalidades\n",
        "\n",
        "print('Episódios', episodios)\n",
        "print('Penalidades', total_penalidades)"
      ],
      "metadata": {
        "colab": {
          "base_uri": "https://localhost:8080/"
        },
        "id": "DoD4StOTlrxv",
        "outputId": "3d23be02-3dd5-46d2-f734-888723438e72"
      },
      "execution_count": 37,
      "outputs": [
        {
          "output_type": "stream",
          "name": "stdout",
          "text": [
            "Episódios 50\n",
            "Penalidades 0\n"
          ]
        }
      ]
    },
    {
      "cell_type": "code",
      "source": [
        "q_table[346]"
      ],
      "metadata": {
        "colab": {
          "base_uri": "https://localhost:8080/"
        },
        "id": "LDtVrdVBphRm",
        "outputId": "0c26e90c-12a4-426f-b03b-d940f8294e20"
      },
      "execution_count": 12,
      "outputs": [
        {
          "output_type": "execute_result",
          "data": {
            "text/plain": [
              "array([-2.48365263, -2.48235155, -2.48340809, -2.482549  , -6.33817918,\n",
              "       -9.46468005])"
            ]
          },
          "metadata": {},
          "execution_count": 12
        }
      ]
    },
    {
      "cell_type": "code",
      "source": [
        "env.reset\n",
        "env.render()"
      ],
      "metadata": {
        "colab": {
          "base_uri": "https://localhost:8080/"
        },
        "id": "NfTTFnIUprLO",
        "outputId": "3ef4c50d-467a-4518-dc35-076b2cca9b81"
      },
      "execution_count": 51,
      "outputs": [
        {
          "output_type": "stream",
          "name": "stdout",
          "text": [
            "+---------+\n",
            "|\u001b[34;1mR\u001b[0m: | : :\u001b[35mG\u001b[0m|\n",
            "| : | : : |\n",
            "| : : : : |\n",
            "| | : | : |\n",
            "|\u001b[43mY\u001b[0m| : |B: |\n",
            "+---------+\n",
            "  (East)\n"
          ]
        }
      ]
    },
    {
      "cell_type": "code",
      "source": [
        "from time import sleep\n",
        "for frame in frames:\n",
        "  clear_output(wait=True)\n",
        "  print(frame['frame'])\n",
        "  print('Estado', frame['state'])\n",
        "  print('Ação', frame['action'])\n",
        "  print('Recompensa', frame['reward'])\n",
        "  sleep(1.0)"
      ],
      "metadata": {
        "id": "_Zn4XZSKqB-G"
      },
      "execution_count": null,
      "outputs": []
    }
  ]
}